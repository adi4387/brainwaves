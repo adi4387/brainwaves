{
 "cells": [
  {
   "cell_type": "code",
   "execution_count": 1,
   "metadata": {},
   "outputs": [],
   "source": [
    "import os\n",
    "import pandas as pd\n",
    "import numpy as np"
   ]
  },
  {
   "cell_type": "code",
   "execution_count": 2,
   "metadata": {},
   "outputs": [],
   "source": [
    "raw_data_path = os.path.join(os.path.pardir,'data','raw')\n",
    "train_file_path = os.path.join(raw_data_path, 'train.csv')\n",
    "test_file_path = os.path.join(raw_data_path, 'test.csv')"
   ]
  },
  {
   "cell_type": "code",
   "execution_count": 3,
   "metadata": {},
   "outputs": [],
   "source": [
    "train_df = pd.read_csv(train_file_path,index_col='Complaint-ID')\n",
    "test_df = pd.read_csv(test_file_path,index_col='Complaint-ID')"
   ]
  },
  {
   "cell_type": "code",
   "execution_count": 4,
   "metadata": {},
   "outputs": [],
   "source": [
    "test_df['Complaint-Status'] = -1"
   ]
  },
  {
   "cell_type": "code",
   "execution_count": 5,
   "metadata": {},
   "outputs": [
    {
     "name": "stderr",
     "output_type": "stream",
     "text": [
      "D:\\Anaconda3\\lib\\site-packages\\ipykernel_launcher.py:1: FutureWarning: Sorting because non-concatenation axis is not aligned. A future version\n",
      "of pandas will change to not sort by default.\n",
      "\n",
      "To accept the future behavior, pass 'sort=True'.\n",
      "\n",
      "To retain the current behavior and silence the warning, pass sort=False\n",
      "\n",
      "  \"\"\"Entry point for launching an IPython kernel.\n"
     ]
    }
   ],
   "source": [
    "complaints = pd.concat((train_df, test_df), axis=0)"
   ]
  },
  {
   "cell_type": "code",
   "execution_count": 6,
   "metadata": {},
   "outputs": [
    {
     "name": "stdout",
     "output_type": "stream",
     "text": [
      "<class 'pandas.core.frame.DataFrame'>\n",
      "Index: 61809 entries, Tr-1 to Te-18543\n",
      "Data columns (total 8 columns):\n",
      "Company-response              29602 non-null object\n",
      "Complaint-Status              61809 non-null object\n",
      "Complaint-reason              61809 non-null object\n",
      "Consumer-complaint-summary    61809 non-null object\n",
      "Consumer-disputes             50807 non-null object\n",
      "Date-received                 61809 non-null object\n",
      "Date-sent-to-company          61809 non-null object\n",
      "Transaction-Type              61809 non-null object\n",
      "dtypes: object(8)\n",
      "memory usage: 4.2+ MB\n"
     ]
    }
   ],
   "source": [
    "complaints.info()"
   ]
  },
  {
   "cell_type": "code",
   "execution_count": 7,
   "metadata": {},
   "outputs": [
    {
     "name": "stdout",
     "output_type": "stream",
     "text": [
      "['Loan servicing, payments, escrow account'\n",
      " 'Incorrect information on credit report' 'Using a debit or ATM card'\n",
      " \"Cont'd attempts collect debt not owed\" 'Payoff process'\n",
      " 'Loan modification,collection,foreclosure'\n",
      " 'Problems caused by my funds being low'\n",
      " 'Credit card protection / Debt protection' 'Managing the loan or lease'\n",
      " 'Problem when making payments' 'Incorrect information on your report'\n",
      " 'False statements or representation' 'Disclosure verification of debt'\n",
      " 'Customer service / Customer relations' 'Improper use of your report'\n",
      " 'Deposits and withdrawals' 'Communication tactics'\n",
      " 'Settlement process and costs' 'Dealing with my lender or servicer'\n",
      " 'Closing/Cancelling account'\n",
      " 'Applying for a mortgage or refinancing an existing mortgage'\n",
      " 'Problems when you are unable to pay' 'Taking out the loan or lease'\n",
      " \"Charged fees or interest I didn't expect\"\n",
      " \"Problem with a credit reporting company's investigation into an existing problem\"\n",
      " 'Account opening, closing, or management' 'Struggling to pay mortgage'\n",
      " 'Credit decision / Underwriting' 'Improper contact or sharing of info'\n",
      " 'Unable to get credit report/credit score'\n",
      " 'Attempts to collect debt not owed' 'Struggling to pay your loan'\n",
      " 'Problem with a purchase shown on your statement' 'Other'\n",
      " \"Can't repay my loan\" 'Billing disputes'\n",
      " 'Making/receiving payments, sending money'\n",
      " 'Identity theft / Fraud / Embezzlement'\n",
      " \"Credit reporting company's investigation\"\n",
      " 'Took or threatened to take negative or legal action'\n",
      " 'Application, originator, mortgage broker' 'Trouble using your card'\n",
      " 'Credit monitoring or identity protection' 'Getting a credit card'\n",
      " 'Managing, opening, or closing account'\n",
      " 'Unsolicited issuance of credit card' 'Written notification about debt'\n",
      " 'Problem with fraud alerts or security freezes'\n",
      " 'Money was taken from your bank account on the wrong day or for the wrong amount'\n",
      " 'Trouble during payment process' 'Getting a line of credit'\n",
      " 'Other features, terms, or problems'\n",
      " 'Problems at the end of the loan or lease'\n",
      " 'Unable to get your credit report or credit score'\n",
      " 'Struggling to repay your loan' 'Improper use of my credit report'\n",
      " 'Dealing with your lender or servicer' 'Advertising and marketing'\n",
      " 'Money was not available when promised'\n",
      " 'Credit monitoring or identity theft protection services' 'Fraud or scam'\n",
      " 'Threatened to contact someone or share information improperly'\n",
      " 'Charged bank acct wrong day or amt' 'Credit line increase/decrease'\n",
      " 'Billing statement' 'Fees' 'Delinquent account' 'Closing an account'\n",
      " 'Taking/threatening an illegal action' 'Other fee'\n",
      " 'Problem with a lender or other company charging your account'\n",
      " 'Managing an account' 'Balance transfer' 'Adding money' 'Disclosures'\n",
      " 'Unauthorized transactions/trans. issues' 'APR or interest rate'\n",
      " 'Other transaction problem' 'Late fee' 'Rewards' 'Transaction issue'\n",
      " 'Unexpected or other fees' 'Other service problem'\n",
      " 'Closing on a mortgage' 'Other transaction issues'\n",
      " \"Can't contact lender or servicer\"\n",
      " 'Problem with additional add-on products or services' 'Sale of account'\n",
      " \"Can't stop charges to bank account\"\n",
      " 'Advertising and marketing, including promotional offers'\n",
      " 'Fees or interest' 'Bankruptcy' 'Applying for a mortgage'\n",
      " 'Credit determination' 'Getting a loan'\n",
      " \"Received a loan you didn't apply for\" \"Can't contact lender\"\n",
      " 'Shopping for a loan or lease' 'Account terms and changes'\n",
      " 'Unexpected/Other fees' \"Charged fees or interest you didn't expect\"\n",
      " 'Problem caused by your funds being low' 'Lost or stolen check'\n",
      " \"Received a loan I didn't apply for\" 'Privacy' 'Cash advance fee'\n",
      " 'Problem with a purchase or transfer' 'Other service issues'\n",
      " 'Closing your account' 'Opening an account'\n",
      " 'Payment to acct not credited' 'Getting a loan or lease'\n",
      " 'Application processing delay' 'Convenience checks'\n",
      " 'Incorrect/missing disclosures or info' 'Cash advance'\n",
      " 'Balance transfer fee' 'Advertising, marketing or disclosures'\n",
      " 'Customer service/Customer relations' 'Trouble using the card'\n",
      " 'Applied for loan/did not receive money'\n",
      " 'Wrong amount charged or received' 'Arbitration'\n",
      " 'Forbearance / Workout plans' 'Problem adding money' 'Getting the loan'\n",
      " 'Struggling to pay your bill' 'Problem with customer service'\n",
      " 'Overdraft, savings or rewards features' 'Managing the line of credit'\n",
      " 'Problem getting a card or closing an account'\n",
      " 'Problem with the payoff process at the end of the loan'\n",
      " 'Unauthorized transactions or other transaction problem'\n",
      " \"Loan payment wasn't credited to your account\" 'Excessive fees'\n",
      " 'Confusing or missing disclosures'\n",
      " 'Lender repossessed or sold the vehicle'\n",
      " 'Confusing or misleading advertising or marketing'\n",
      " 'Managing, opening, or closing your mobile wallet account'\n",
      " \"Problem with a company's investigation into an existing issue\"\n",
      " 'Vehicle was repossessed or sold the vehicle' 'Credit limit changed'\n",
      " 'Advertising' 'Shopping for a line of credit' 'Incorrect exchange rate'\n",
      " 'Overlimit fee' 'Lost or stolen money order'\n",
      " \"Was approved for a loan, but didn't receive the money\"\n",
      " 'Problem with an overdraft'\n",
      " 'Identity theft protection or other monitoring services'\n",
      " 'Problem with cash advance'\n",
      " \"Can't stop withdrawals from your bank account\"]\n"
     ]
    }
   ],
   "source": [
    "print(complaints['Complaint-reason'].unique())"
   ]
  },
  {
   "cell_type": "code",
   "execution_count": 8,
   "metadata": {},
   "outputs": [
    {
     "name": "stdout",
     "output_type": "stream",
     "text": [
      "(61809, 8)\n"
     ]
    }
   ],
   "source": [
    "print(complaints.shape)"
   ]
  },
  {
   "cell_type": "code",
   "execution_count": 9,
   "metadata": {},
   "outputs": [
    {
     "name": "stdout",
     "output_type": "stream",
     "text": [
      "Complaint-reason\n",
      "APR or interest rate                                              254\n",
      "Account opening, closing, or management                          2010\n",
      "Account terms and changes                                           8\n",
      "Adding money                                                       33\n",
      "Advertising                                                         1\n",
      "Advertising and marketing                                         257\n",
      "Advertising and marketing, including promotional offers            92\n",
      "Advertising, marketing or disclosures                               6\n",
      "Application processing delay                                       41\n",
      "Application, originator, mortgage broker                         1205\n",
      "Applied for loan/did not receive money                             26\n",
      "Applying for a mortgage                                            12\n",
      "Applying for a mortgage or refinancing an existing mortgage       137\n",
      "Arbitration                                                        29\n",
      "Attempts to collect debt not owed                                 983\n",
      "Balance transfer                                                  103\n",
      "Balance transfer fee                                               14\n",
      "Bankruptcy                                                         18\n",
      "Billing disputes                                                  977\n",
      "Billing statement                                                 198\n",
      "Can't contact lender                                              125\n",
      "Can't contact lender or servicer                                    8\n",
      "Can't repay my loan                                               967\n",
      "Can't stop charges to bank account                                 50\n",
      "Can't stop withdrawals from your bank account                       2\n",
      "Cash advance                                                       16\n",
      "Cash advance fee                                                   14\n",
      "Charged bank acct wrong day or amt                                 37\n",
      "Charged fees or interest I didn't expect                          253\n",
      "Charged fees or interest you didn't expect                         45\n",
      "                                                                 ... \n",
      "Received a loan you didn't apply for                                9\n",
      "Rewards                                                           281\n",
      "Sale of account                                                    23\n",
      "Settlement process and costs                                      690\n",
      "Shopping for a line of credit                                       4\n",
      "Shopping for a loan or lease                                      184\n",
      "Struggling to pay mortgage                                        383\n",
      "Struggling to pay your bill                                        11\n",
      "Struggling to pay your loan                                        72\n",
      "Struggling to repay your loan                                     219\n",
      "Taking out the loan or lease                                      476\n",
      "Taking/threatening an illegal action                              927\n",
      "Threatened to contact someone or share information improperly      62\n",
      "Took or threatened to take negative or legal action               303\n",
      "Transaction issue                                                 196\n",
      "Trouble during payment process                                    422\n",
      "Trouble using the card                                             17\n",
      "Trouble using your card                                            50\n",
      "Unable to get credit report/credit score                          702\n",
      "Unable to get your credit report or credit score                  108\n",
      "Unauthorized transactions or other transaction problem             10\n",
      "Unauthorized transactions/trans. issues                           154\n",
      "Unexpected or other fees                                           27\n",
      "Unexpected/Other fees                                               6\n",
      "Unsolicited issuance of credit card                               158\n",
      "Using a debit or ATM card                                         486\n",
      "Vehicle was repossessed or sold the vehicle                         4\n",
      "Was approved for a loan, but didn't receive the money               3\n",
      "Written notification about debt                                   463\n",
      "Wrong amount charged or received                                   30\n",
      "Length: 152, dtype: int64\n"
     ]
    }
   ],
   "source": [
    "print(complaints.groupby('Complaint-reason').size())"
   ]
  },
  {
   "cell_type": "code",
   "execution_count": 10,
   "metadata": {},
   "outputs": [],
   "source": [
    "carray = complaints['Complaint-reason'].unique()"
   ]
  },
  {
   "cell_type": "code",
   "execution_count": 11,
   "metadata": {},
   "outputs": [],
   "source": [
    "def getMap(carray) :\n",
    "    count = 1\n",
    "    tmap = {}\n",
    "    for i in range(len(carray)):\n",
    "        tmap.update({carray[i]:i})\n",
    "    return tmap"
   ]
  },
  {
   "cell_type": "code",
   "execution_count": 12,
   "metadata": {},
   "outputs": [],
   "source": [
    "carray = complaints['Complaint-Status'].unique()"
   ]
  },
  {
   "cell_type": "code",
   "execution_count": 13,
   "metadata": {},
   "outputs": [
    {
     "data": {
      "text/plain": [
       "{'Closed with explanation': 0,\n",
       " 'Closed with non-monetary relief': 1,\n",
       " 'Closed': 2,\n",
       " 'Closed with monetary relief': 3,\n",
       " 'Untimely response': 4,\n",
       " -1: 5}"
      ]
     },
     "execution_count": 13,
     "metadata": {},
     "output_type": "execute_result"
    }
   ],
   "source": [
    "getMap(carray)"
   ]
  },
  {
   "cell_type": "code",
   "execution_count": 14,
   "metadata": {},
   "outputs": [],
   "source": [
    "def getComplaintReasonId(complaintReason) :\n",
    "    map = {'Loan servicing, payments, escrow account': 0,\n",
    " 'Incorrect information on credit report': 1,\n",
    " 'Using a debit or ATM card': 2,\n",
    " \"Cont'd attempts collect debt not owed\": 3,\n",
    " 'Payoff process': 4,\n",
    " 'Loan modification,collection,foreclosure': 5,\n",
    " 'Problems caused by my funds being low': 6,\n",
    " 'Credit card protection / Debt protection': 7,\n",
    " 'Managing the loan or lease': 8,\n",
    " 'Problem when making payments': 9,\n",
    " 'Incorrect information on your report': 10,\n",
    " 'False statements or representation': 11,\n",
    " 'Disclosure verification of debt': 12,\n",
    " 'Customer service / Customer relations': 13,\n",
    " 'Improper use of your report': 14,\n",
    " 'Deposits and withdrawals': 15,\n",
    " 'Communication tactics': 16,\n",
    " 'Settlement process and costs': 17,\n",
    " 'Dealing with my lender or servicer': 18,\n",
    " 'Closing/Cancelling account': 19,\n",
    " 'Applying for a mortgage or refinancing an existing mortgage': 20,\n",
    " 'Problems when you are unable to pay': 21,\n",
    " 'Taking out the loan or lease': 22,\n",
    " \"Charged fees or interest I didn't expect\": 23,\n",
    " \"Problem with a credit reporting company's investigation into an existing problem\": 24,\n",
    " 'Account opening, closing, or management': 25,\n",
    " 'Struggling to pay mortgage': 26,\n",
    " 'Credit decision / Underwriting': 27,\n",
    " 'Improper contact or sharing of info': 28,\n",
    " 'Unable to get credit report/credit score': 29,\n",
    " 'Attempts to collect debt not owed': 30,\n",
    " 'Struggling to pay your loan': 31,\n",
    " 'Problem with a purchase shown on your statement': 32,\n",
    " 'Other': 33,\n",
    " \"Can't repay my loan\": 34,\n",
    " 'Billing disputes': 35,\n",
    " 'Making/receiving payments, sending money': 36,\n",
    " 'Identity theft / Fraud / Embezzlement': 37,\n",
    " \"Credit reporting company's investigation\": 38,\n",
    " 'Took or threatened to take negative or legal action': 39,\n",
    " 'Application, originator, mortgage broker': 40,\n",
    " 'Trouble using your card': 41,\n",
    " 'Credit monitoring or identity protection': 42,\n",
    " 'Getting a credit card': 43,\n",
    " 'Managing, opening, or closing account': 44,\n",
    " 'Unsolicited issuance of credit card': 45,\n",
    " 'Written notification about debt': 46,\n",
    " 'Problem with fraud alerts or security freezes': 47,\n",
    " 'Money was taken from your bank account on the wrong day or for the wrong amount': 48,\n",
    " 'Trouble during payment process': 49,\n",
    " 'Getting a line of credit': 50,\n",
    " 'Other features, terms, or problems': 51,\n",
    " 'Problems at the end of the loan or lease': 52,\n",
    " 'Unable to get your credit report or credit score': 53,\n",
    " 'Struggling to repay your loan': 54,\n",
    " 'Improper use of my credit report': 55,\n",
    " 'Dealing with your lender or servicer': 56,\n",
    " 'Advertising and marketing': 57,\n",
    " 'Money was not available when promised': 58,\n",
    " 'Credit monitoring or identity theft protection services': 59,\n",
    " 'Fraud or scam': 60,\n",
    " 'Threatened to contact someone or share information improperly': 61,\n",
    " 'Charged bank acct wrong day or amt': 62,\n",
    " 'Credit line increase/decrease': 63,\n",
    " 'Billing statement': 64,\n",
    " 'Fees': 65,\n",
    " 'Delinquent account': 66,\n",
    " 'Closing an account': 67,\n",
    " 'Taking/threatening an illegal action': 68,\n",
    " 'Other fee': 69,\n",
    " 'Problem with a lender or other company charging your account': 70,\n",
    " 'Managing an account': 71,\n",
    " 'Balance transfer': 72,\n",
    " 'Adding money': 73,\n",
    " 'Disclosures': 74,\n",
    " 'Unauthorized transactions/trans. issues': 75,\n",
    " 'APR or interest rate': 76,\n",
    " 'Other transaction problem': 77,\n",
    " 'Late fee': 78,\n",
    " 'Rewards': 79,\n",
    " 'Transaction issue': 80,\n",
    " 'Unexpected or other fees': 81,\n",
    " 'Other service problem': 82,\n",
    " 'Closing on a mortgage': 83,\n",
    " 'Other transaction issues': 84,\n",
    " \"Can't contact lender or servicer\": 85,\n",
    " 'Problem with additional add-on products or services': 86,\n",
    " 'Sale of account': 87,\n",
    " \"Can't stop charges to bank account\": 88,\n",
    " 'Advertising and marketing, including promotional offers': 89,\n",
    " 'Fees or interest': 90,\n",
    " 'Bankruptcy': 91,\n",
    " 'Applying for a mortgage': 92,\n",
    " 'Credit determination': 93,\n",
    " 'Getting a loan': 94,\n",
    " \"Received a loan you didn't apply for\": 95,\n",
    " \"Can't contact lender\": 96,\n",
    " 'Shopping for a loan or lease': 97,\n",
    " 'Account terms and changes': 98,\n",
    " 'Unexpected/Other fees': 99,\n",
    " \"Charged fees or interest you didn't expect\": 100,\n",
    " 'Problem caused by your funds being low': 101,\n",
    " 'Lost or stolen check': 102,\n",
    " \"Received a loan I didn't apply for\": 103,\n",
    " 'Privacy': 104,\n",
    " 'Cash advance fee': 105,\n",
    " 'Problem with a purchase or transfer': 106,\n",
    " 'Other service issues': 107,\n",
    " 'Closing your account': 108,\n",
    " 'Opening an account': 109,\n",
    " 'Payment to acct not credited': 110,\n",
    " 'Getting a loan or lease': 111,\n",
    " 'Application processing delay': 112,\n",
    " 'Convenience checks': 113,\n",
    " 'Incorrect/missing disclosures or info': 114,\n",
    " 'Cash advance': 115,\n",
    " 'Balance transfer fee': 116,\n",
    " 'Advertising, marketing or disclosures': 117,\n",
    " 'Customer service/Customer relations': 118,\n",
    " 'Trouble using the card': 119,\n",
    " 'Applied for loan/did not receive money': 120,\n",
    " 'Wrong amount charged or received': 121,\n",
    " 'Arbitration': 122,\n",
    " 'Forbearance / Workout plans': 123,\n",
    " 'Problem adding money': 124,\n",
    " 'Getting the loan': 125,\n",
    " 'Struggling to pay your bill': 126,\n",
    " 'Problem with customer service': 127,\n",
    " 'Overdraft, savings or rewards features': 128,\n",
    " 'Managing the line of credit': 129,\n",
    " 'Problem getting a card or closing an account': 130,\n",
    " 'Problem with the payoff process at the end of the loan': 131,\n",
    " 'Unauthorized transactions or other transaction problem': 132,\n",
    " \"Loan payment wasn't credited to your account\": 133,\n",
    " 'Excessive fees': 134,\n",
    " 'Confusing or missing disclosures': 135,\n",
    " 'Lender repossessed or sold the vehicle': 136,\n",
    " 'Confusing or misleading advertising or marketing': 137,\n",
    " 'Managing, opening, or closing your mobile wallet account': 138,\n",
    " \"Problem with a company's investigation into an existing issue\": 139,\n",
    " 'Vehicle was repossessed or sold the vehicle': 140,\n",
    " 'Credit limit changed': 141,\n",
    " 'Advertising': 142,\n",
    " 'Shopping for a line of credit': 143,\n",
    " 'Incorrect exchange rate': 144,\n",
    " 'Overlimit fee': 145,\n",
    " 'Lost or stolen money order': 146,\n",
    " \"Was approved for a loan, but didn't receive the money\": 147,\n",
    " 'Problem with an overdraft': 148,\n",
    " 'Identity theft protection or other monitoring services': 149,\n",
    " 'Problem with cash advance': 150,\n",
    " \"Can't stop withdrawals from your bank account\": 151}\n",
    "    return map[complaintReason]"
   ]
  },
  {
   "cell_type": "code",
   "execution_count": 15,
   "metadata": {},
   "outputs": [
    {
     "data": {
      "text/plain": [
       "0"
      ]
     },
     "execution_count": 15,
     "metadata": {},
     "output_type": "execute_result"
    }
   ],
   "source": [
    "getComplaintReasonId('Loan servicing, payments, escrow account')"
   ]
  },
  {
   "cell_type": "code",
   "execution_count": 16,
   "metadata": {},
   "outputs": [],
   "source": [
    "complaints['ComplaintReasonId'] = complaints['Complaint-reason'].map(lambda x : getComplaintReasonId(x))"
   ]
  },
  {
   "cell_type": "code",
   "execution_count": 17,
   "metadata": {},
   "outputs": [
    {
     "data": {
      "text/plain": [
       "Complaint-ID\n",
       "Tr-1         0\n",
       "Tr-2         1\n",
       "Tr-3         2\n",
       "Tr-4         3\n",
       "Tr-5         4\n",
       "Tr-6         5\n",
       "Tr-7         1\n",
       "Tr-8         6\n",
       "Tr-9         3\n",
       "Tr-10        1\n",
       "Tr-11        0\n",
       "Tr-12        7\n",
       "Tr-13        1\n",
       "Tr-14        1\n",
       "Tr-15        8\n",
       "Tr-16        9\n",
       "Tr-17       10\n",
       "Tr-18       11\n",
       "Tr-19       12\n",
       "Tr-20        3\n",
       "Tr-21       13\n",
       "Tr-22       14\n",
       "Tr-23        0\n",
       "Tr-24        8\n",
       "Tr-25        1\n",
       "Tr-26        9\n",
       "Tr-27       15\n",
       "Tr-28        1\n",
       "Tr-29       10\n",
       "Tr-30       16\n",
       "            ..\n",
       "Te-18514    11\n",
       "Te-18515    22\n",
       "Te-18516    15\n",
       "Te-18517    36\n",
       "Te-18518    18\n",
       "Te-18519    10\n",
       "Te-18520    24\n",
       "Te-18521     1\n",
       "Te-18522     6\n",
       "Te-18523     1\n",
       "Te-18524    25\n",
       "Te-18525     0\n",
       "Te-18526    25\n",
       "Te-18527    21\n",
       "Te-18528    39\n",
       "Te-18529    10\n",
       "Te-18530    22\n",
       "Te-18531    17\n",
       "Te-18532     0\n",
       "Te-18533    25\n",
       "Te-18534    71\n",
       "Te-18535     1\n",
       "Te-18536    44\n",
       "Te-18537    18\n",
       "Te-18538    93\n",
       "Te-18539    37\n",
       "Te-18540     1\n",
       "Te-18541    68\n",
       "Te-18542     0\n",
       "Te-18543    12\n",
       "Name: ComplaintReasonId, Length: 61809, dtype: int64"
      ]
     },
     "execution_count": 17,
     "metadata": {},
     "output_type": "execute_result"
    }
   ],
   "source": [
    "complaints.ComplaintReasonId"
   ]
  },
  {
   "cell_type": "code",
   "execution_count": 18,
   "metadata": {},
   "outputs": [],
   "source": [
    "def getComplaintStatusId(status) :\n",
    "    map= {'Closed with explanation': 0,\n",
    " 'Closed with non-monetary relief': 1,\n",
    " 'Closed': 2,\n",
    " 'Closed with monetary relief': 3,\n",
    " 'Untimely response': 4,\n",
    " -1: 5}\n",
    "    return map[status]"
   ]
  },
  {
   "cell_type": "code",
   "execution_count": 19,
   "metadata": {},
   "outputs": [],
   "source": [
    "complaints['ComplaintStatusId'] = complaints['Complaint-Status'].map(lambda x : getComplaintStatusId(x))"
   ]
  },
  {
   "cell_type": "code",
   "execution_count": 20,
   "metadata": {},
   "outputs": [
    {
     "data": {
      "text/plain": [
       "Complaint-ID\n",
       "Tr-1        0\n",
       "Tr-2        1\n",
       "Tr-3        0\n",
       "Tr-4        0\n",
       "Tr-5        0\n",
       "Tr-6        0\n",
       "Tr-7        0\n",
       "Tr-8        0\n",
       "Tr-9        0\n",
       "Tr-10       1\n",
       "Tr-11       0\n",
       "Tr-12       0\n",
       "Tr-13       1\n",
       "Tr-14       0\n",
       "Tr-15       2\n",
       "Tr-16       3\n",
       "Tr-17       0\n",
       "Tr-18       0\n",
       "Tr-19       0\n",
       "Tr-20       0\n",
       "Tr-21       0\n",
       "Tr-22       0\n",
       "Tr-23       0\n",
       "Tr-24       0\n",
       "Tr-25       0\n",
       "Tr-26       0\n",
       "Tr-27       0\n",
       "Tr-28       0\n",
       "Tr-29       0\n",
       "Tr-30       0\n",
       "           ..\n",
       "Te-18514    5\n",
       "Te-18515    5\n",
       "Te-18516    5\n",
       "Te-18517    5\n",
       "Te-18518    5\n",
       "Te-18519    5\n",
       "Te-18520    5\n",
       "Te-18521    5\n",
       "Te-18522    5\n",
       "Te-18523    5\n",
       "Te-18524    5\n",
       "Te-18525    5\n",
       "Te-18526    5\n",
       "Te-18527    5\n",
       "Te-18528    5\n",
       "Te-18529    5\n",
       "Te-18530    5\n",
       "Te-18531    5\n",
       "Te-18532    5\n",
       "Te-18533    5\n",
       "Te-18534    5\n",
       "Te-18535    5\n",
       "Te-18536    5\n",
       "Te-18537    5\n",
       "Te-18538    5\n",
       "Te-18539    5\n",
       "Te-18540    5\n",
       "Te-18541    5\n",
       "Te-18542    5\n",
       "Te-18543    5\n",
       "Name: ComplaintStatusId, Length: 61809, dtype: int64"
      ]
     },
     "execution_count": 20,
     "metadata": {},
     "output_type": "execute_result"
    }
   ],
   "source": [
    "complaints.ComplaintStatusId"
   ]
  },
  {
   "cell_type": "code",
   "execution_count": 21,
   "metadata": {},
   "outputs": [],
   "source": [
    "complaints = complaints[['ComplaintStatusId','ComplaintReasonId']]"
   ]
  },
  {
   "cell_type": "code",
   "execution_count": 22,
   "metadata": {},
   "outputs": [
    {
     "data": {
      "text/html": [
       "<div>\n",
       "<style scoped>\n",
       "    .dataframe tbody tr th:only-of-type {\n",
       "        vertical-align: middle;\n",
       "    }\n",
       "\n",
       "    .dataframe tbody tr th {\n",
       "        vertical-align: top;\n",
       "    }\n",
       "\n",
       "    .dataframe thead th {\n",
       "        text-align: right;\n",
       "    }\n",
       "</style>\n",
       "<table border=\"1\" class=\"dataframe\">\n",
       "  <thead>\n",
       "    <tr style=\"text-align: right;\">\n",
       "      <th></th>\n",
       "      <th>ComplaintStatusId</th>\n",
       "      <th>ComplaintReasonId</th>\n",
       "    </tr>\n",
       "    <tr>\n",
       "      <th>Complaint-ID</th>\n",
       "      <th></th>\n",
       "      <th></th>\n",
       "    </tr>\n",
       "  </thead>\n",
       "  <tbody>\n",
       "    <tr>\n",
       "      <th>Tr-1</th>\n",
       "      <td>0</td>\n",
       "      <td>0</td>\n",
       "    </tr>\n",
       "    <tr>\n",
       "      <th>Tr-2</th>\n",
       "      <td>1</td>\n",
       "      <td>1</td>\n",
       "    </tr>\n",
       "    <tr>\n",
       "      <th>Tr-3</th>\n",
       "      <td>0</td>\n",
       "      <td>2</td>\n",
       "    </tr>\n",
       "    <tr>\n",
       "      <th>Tr-4</th>\n",
       "      <td>0</td>\n",
       "      <td>3</td>\n",
       "    </tr>\n",
       "    <tr>\n",
       "      <th>Tr-5</th>\n",
       "      <td>0</td>\n",
       "      <td>4</td>\n",
       "    </tr>\n",
       "    <tr>\n",
       "      <th>Tr-6</th>\n",
       "      <td>0</td>\n",
       "      <td>5</td>\n",
       "    </tr>\n",
       "    <tr>\n",
       "      <th>Tr-7</th>\n",
       "      <td>0</td>\n",
       "      <td>1</td>\n",
       "    </tr>\n",
       "    <tr>\n",
       "      <th>Tr-8</th>\n",
       "      <td>0</td>\n",
       "      <td>6</td>\n",
       "    </tr>\n",
       "    <tr>\n",
       "      <th>Tr-9</th>\n",
       "      <td>0</td>\n",
       "      <td>3</td>\n",
       "    </tr>\n",
       "    <tr>\n",
       "      <th>Tr-10</th>\n",
       "      <td>1</td>\n",
       "      <td>1</td>\n",
       "    </tr>\n",
       "    <tr>\n",
       "      <th>Tr-11</th>\n",
       "      <td>0</td>\n",
       "      <td>0</td>\n",
       "    </tr>\n",
       "    <tr>\n",
       "      <th>Tr-12</th>\n",
       "      <td>0</td>\n",
       "      <td>7</td>\n",
       "    </tr>\n",
       "    <tr>\n",
       "      <th>Tr-13</th>\n",
       "      <td>1</td>\n",
       "      <td>1</td>\n",
       "    </tr>\n",
       "    <tr>\n",
       "      <th>Tr-14</th>\n",
       "      <td>0</td>\n",
       "      <td>1</td>\n",
       "    </tr>\n",
       "    <tr>\n",
       "      <th>Tr-15</th>\n",
       "      <td>2</td>\n",
       "      <td>8</td>\n",
       "    </tr>\n",
       "    <tr>\n",
       "      <th>Tr-16</th>\n",
       "      <td>3</td>\n",
       "      <td>9</td>\n",
       "    </tr>\n",
       "    <tr>\n",
       "      <th>Tr-17</th>\n",
       "      <td>0</td>\n",
       "      <td>10</td>\n",
       "    </tr>\n",
       "    <tr>\n",
       "      <th>Tr-18</th>\n",
       "      <td>0</td>\n",
       "      <td>11</td>\n",
       "    </tr>\n",
       "    <tr>\n",
       "      <th>Tr-19</th>\n",
       "      <td>0</td>\n",
       "      <td>12</td>\n",
       "    </tr>\n",
       "    <tr>\n",
       "      <th>Tr-20</th>\n",
       "      <td>0</td>\n",
       "      <td>3</td>\n",
       "    </tr>\n",
       "    <tr>\n",
       "      <th>Tr-21</th>\n",
       "      <td>0</td>\n",
       "      <td>13</td>\n",
       "    </tr>\n",
       "    <tr>\n",
       "      <th>Tr-22</th>\n",
       "      <td>0</td>\n",
       "      <td>14</td>\n",
       "    </tr>\n",
       "    <tr>\n",
       "      <th>Tr-23</th>\n",
       "      <td>0</td>\n",
       "      <td>0</td>\n",
       "    </tr>\n",
       "    <tr>\n",
       "      <th>Tr-24</th>\n",
       "      <td>0</td>\n",
       "      <td>8</td>\n",
       "    </tr>\n",
       "    <tr>\n",
       "      <th>Tr-25</th>\n",
       "      <td>0</td>\n",
       "      <td>1</td>\n",
       "    </tr>\n",
       "    <tr>\n",
       "      <th>Tr-26</th>\n",
       "      <td>0</td>\n",
       "      <td>9</td>\n",
       "    </tr>\n",
       "    <tr>\n",
       "      <th>Tr-27</th>\n",
       "      <td>0</td>\n",
       "      <td>15</td>\n",
       "    </tr>\n",
       "    <tr>\n",
       "      <th>Tr-28</th>\n",
       "      <td>0</td>\n",
       "      <td>1</td>\n",
       "    </tr>\n",
       "    <tr>\n",
       "      <th>Tr-29</th>\n",
       "      <td>0</td>\n",
       "      <td>10</td>\n",
       "    </tr>\n",
       "    <tr>\n",
       "      <th>Tr-30</th>\n",
       "      <td>0</td>\n",
       "      <td>16</td>\n",
       "    </tr>\n",
       "    <tr>\n",
       "      <th>...</th>\n",
       "      <td>...</td>\n",
       "      <td>...</td>\n",
       "    </tr>\n",
       "    <tr>\n",
       "      <th>Te-18514</th>\n",
       "      <td>5</td>\n",
       "      <td>11</td>\n",
       "    </tr>\n",
       "    <tr>\n",
       "      <th>Te-18515</th>\n",
       "      <td>5</td>\n",
       "      <td>22</td>\n",
       "    </tr>\n",
       "    <tr>\n",
       "      <th>Te-18516</th>\n",
       "      <td>5</td>\n",
       "      <td>15</td>\n",
       "    </tr>\n",
       "    <tr>\n",
       "      <th>Te-18517</th>\n",
       "      <td>5</td>\n",
       "      <td>36</td>\n",
       "    </tr>\n",
       "    <tr>\n",
       "      <th>Te-18518</th>\n",
       "      <td>5</td>\n",
       "      <td>18</td>\n",
       "    </tr>\n",
       "    <tr>\n",
       "      <th>Te-18519</th>\n",
       "      <td>5</td>\n",
       "      <td>10</td>\n",
       "    </tr>\n",
       "    <tr>\n",
       "      <th>Te-18520</th>\n",
       "      <td>5</td>\n",
       "      <td>24</td>\n",
       "    </tr>\n",
       "    <tr>\n",
       "      <th>Te-18521</th>\n",
       "      <td>5</td>\n",
       "      <td>1</td>\n",
       "    </tr>\n",
       "    <tr>\n",
       "      <th>Te-18522</th>\n",
       "      <td>5</td>\n",
       "      <td>6</td>\n",
       "    </tr>\n",
       "    <tr>\n",
       "      <th>Te-18523</th>\n",
       "      <td>5</td>\n",
       "      <td>1</td>\n",
       "    </tr>\n",
       "    <tr>\n",
       "      <th>Te-18524</th>\n",
       "      <td>5</td>\n",
       "      <td>25</td>\n",
       "    </tr>\n",
       "    <tr>\n",
       "      <th>Te-18525</th>\n",
       "      <td>5</td>\n",
       "      <td>0</td>\n",
       "    </tr>\n",
       "    <tr>\n",
       "      <th>Te-18526</th>\n",
       "      <td>5</td>\n",
       "      <td>25</td>\n",
       "    </tr>\n",
       "    <tr>\n",
       "      <th>Te-18527</th>\n",
       "      <td>5</td>\n",
       "      <td>21</td>\n",
       "    </tr>\n",
       "    <tr>\n",
       "      <th>Te-18528</th>\n",
       "      <td>5</td>\n",
       "      <td>39</td>\n",
       "    </tr>\n",
       "    <tr>\n",
       "      <th>Te-18529</th>\n",
       "      <td>5</td>\n",
       "      <td>10</td>\n",
       "    </tr>\n",
       "    <tr>\n",
       "      <th>Te-18530</th>\n",
       "      <td>5</td>\n",
       "      <td>22</td>\n",
       "    </tr>\n",
       "    <tr>\n",
       "      <th>Te-18531</th>\n",
       "      <td>5</td>\n",
       "      <td>17</td>\n",
       "    </tr>\n",
       "    <tr>\n",
       "      <th>Te-18532</th>\n",
       "      <td>5</td>\n",
       "      <td>0</td>\n",
       "    </tr>\n",
       "    <tr>\n",
       "      <th>Te-18533</th>\n",
       "      <td>5</td>\n",
       "      <td>25</td>\n",
       "    </tr>\n",
       "    <tr>\n",
       "      <th>Te-18534</th>\n",
       "      <td>5</td>\n",
       "      <td>71</td>\n",
       "    </tr>\n",
       "    <tr>\n",
       "      <th>Te-18535</th>\n",
       "      <td>5</td>\n",
       "      <td>1</td>\n",
       "    </tr>\n",
       "    <tr>\n",
       "      <th>Te-18536</th>\n",
       "      <td>5</td>\n",
       "      <td>44</td>\n",
       "    </tr>\n",
       "    <tr>\n",
       "      <th>Te-18537</th>\n",
       "      <td>5</td>\n",
       "      <td>18</td>\n",
       "    </tr>\n",
       "    <tr>\n",
       "      <th>Te-18538</th>\n",
       "      <td>5</td>\n",
       "      <td>93</td>\n",
       "    </tr>\n",
       "    <tr>\n",
       "      <th>Te-18539</th>\n",
       "      <td>5</td>\n",
       "      <td>37</td>\n",
       "    </tr>\n",
       "    <tr>\n",
       "      <th>Te-18540</th>\n",
       "      <td>5</td>\n",
       "      <td>1</td>\n",
       "    </tr>\n",
       "    <tr>\n",
       "      <th>Te-18541</th>\n",
       "      <td>5</td>\n",
       "      <td>68</td>\n",
       "    </tr>\n",
       "    <tr>\n",
       "      <th>Te-18542</th>\n",
       "      <td>5</td>\n",
       "      <td>0</td>\n",
       "    </tr>\n",
       "    <tr>\n",
       "      <th>Te-18543</th>\n",
       "      <td>5</td>\n",
       "      <td>12</td>\n",
       "    </tr>\n",
       "  </tbody>\n",
       "</table>\n",
       "<p>61809 rows × 2 columns</p>\n",
       "</div>"
      ],
      "text/plain": [
       "              ComplaintStatusId  ComplaintReasonId\n",
       "Complaint-ID                                      \n",
       "Tr-1                          0                  0\n",
       "Tr-2                          1                  1\n",
       "Tr-3                          0                  2\n",
       "Tr-4                          0                  3\n",
       "Tr-5                          0                  4\n",
       "Tr-6                          0                  5\n",
       "Tr-7                          0                  1\n",
       "Tr-8                          0                  6\n",
       "Tr-9                          0                  3\n",
       "Tr-10                         1                  1\n",
       "Tr-11                         0                  0\n",
       "Tr-12                         0                  7\n",
       "Tr-13                         1                  1\n",
       "Tr-14                         0                  1\n",
       "Tr-15                         2                  8\n",
       "Tr-16                         3                  9\n",
       "Tr-17                         0                 10\n",
       "Tr-18                         0                 11\n",
       "Tr-19                         0                 12\n",
       "Tr-20                         0                  3\n",
       "Tr-21                         0                 13\n",
       "Tr-22                         0                 14\n",
       "Tr-23                         0                  0\n",
       "Tr-24                         0                  8\n",
       "Tr-25                         0                  1\n",
       "Tr-26                         0                  9\n",
       "Tr-27                         0                 15\n",
       "Tr-28                         0                  1\n",
       "Tr-29                         0                 10\n",
       "Tr-30                         0                 16\n",
       "...                         ...                ...\n",
       "Te-18514                      5                 11\n",
       "Te-18515                      5                 22\n",
       "Te-18516                      5                 15\n",
       "Te-18517                      5                 36\n",
       "Te-18518                      5                 18\n",
       "Te-18519                      5                 10\n",
       "Te-18520                      5                 24\n",
       "Te-18521                      5                  1\n",
       "Te-18522                      5                  6\n",
       "Te-18523                      5                  1\n",
       "Te-18524                      5                 25\n",
       "Te-18525                      5                  0\n",
       "Te-18526                      5                 25\n",
       "Te-18527                      5                 21\n",
       "Te-18528                      5                 39\n",
       "Te-18529                      5                 10\n",
       "Te-18530                      5                 22\n",
       "Te-18531                      5                 17\n",
       "Te-18532                      5                  0\n",
       "Te-18533                      5                 25\n",
       "Te-18534                      5                 71\n",
       "Te-18535                      5                  1\n",
       "Te-18536                      5                 44\n",
       "Te-18537                      5                 18\n",
       "Te-18538                      5                 93\n",
       "Te-18539                      5                 37\n",
       "Te-18540                      5                  1\n",
       "Te-18541                      5                 68\n",
       "Te-18542                      5                  0\n",
       "Te-18543                      5                 12\n",
       "\n",
       "[61809 rows x 2 columns]"
      ]
     },
     "execution_count": 22,
     "metadata": {},
     "output_type": "execute_result"
    }
   ],
   "source": [
    "complaints"
   ]
  },
  {
   "cell_type": "markdown",
   "metadata": {},
   "source": []
  },
  {
   "cell_type": "code",
   "execution_count": 28,
   "metadata": {},
   "outputs": [],
   "source": [
    "%matplotlib inline\n",
    "import matplotlib.pyplot as plt"
   ]
  },
  {
   "cell_type": "code",
   "execution_count": 29,
   "metadata": {},
   "outputs": [
    {
     "data": {
      "image/png": "[encoded data removed]",
      "text/plain": [
       "<Figure size 648x648 with 4 Axes>"
      ]
     },
     "metadata": {},
     "output_type": "display_data"
    }
   ],
   "source": [
    "complaints.plot(kind='box', subplots=True, layout=(2,2), sharex=False, sharey=False, figsize=(9,9), \n",
    "                                        title='Box Plot for each input variable')\n",
    "plt.show()"
   ]
  },
  {
   "cell_type": "code",
   "execution_count": 31,
   "metadata": {},
   "outputs": [
    {
     "data": {
      "text/plain": [
       "<Figure size 432x288 with 0 Axes>"
      ]
     },
     "metadata": {},
     "output_type": "display_data"
    }
   ],
   "source": [
    "import pylab as pl\n",
    "pl.suptitle(\"Histogram for each numeric input variable\")\n",
    "plt.savefig('complaints_hist')\n",
    "plt.show()"
   ]
  },
  {
   "cell_type": "code",
   "execution_count": null,
   "metadata": {},
   "outputs": [],
   "source": []
  },
  {
   "cell_type": "code",
   "execution_count": null,
   "metadata": {},
   "outputs": [],
   "source": []
  },
  {
   "cell_type": "code",
   "execution_count": null,
   "metadata": {},
   "outputs": [],
   "source": []
  },
  {
   "cell_type": "code",
   "execution_count": null,
   "metadata": {},
   "outputs": [],
   "source": []
  },
  {
   "cell_type": "code",
   "execution_count": null,
   "metadata": {},
   "outputs": [],
   "source": []
  },
  {
   "cell_type": "code",
   "execution_count": null,
   "metadata": {},
   "outputs": [],
   "source": []
  },
  {
   "cell_type": "code",
   "execution_count": 25,
   "metadata": {},
   "outputs": [],
   "source": [
    "processed_data_path = os.path.join(os.path.pardir,'data','processed')\n",
    "write_train_path = os.path.join(processed_data_path,'train.csv')\n",
    "write_test_path = os.path.join(processed_data_path,'test.csv')"
   ]
  },
  {
   "cell_type": "code",
   "execution_count": 32,
   "metadata": {},
   "outputs": [],
   "source": [
    "complaints.loc[complaints.ComplaintStatusId != -1].to_csv(write_train_path)\n",
    "columns = [column for column in complaints.columns if column !='ComplaintStatusId']\n",
    "complaints.loc[complaints.ComplaintStatusId == --1,columns].to_csv(write_test_path)"
   ]
  },
  {
   "cell_type": "code",
   "execution_count": 33,
   "metadata": {},
   "outputs": [],
   "source": [
    "processed_data_path = os.path.join(os.path.pardir,'data','processed')\n",
    "train_file_path = os.path.join(processed_data_path,'train.csv')\n",
    "test_file_path = os.path.join(processed_data_path,'test.csv')"
   ]
  },
  {
   "cell_type": "code",
   "execution_count": 34,
   "metadata": {},
   "outputs": [],
   "source": [
    "train_df = pd.read_csv(train_file_path,index_col='Complaint-ID')\n",
    "test_df = pd.read_csv(test_file_path,index_col='Complaint-ID')"
   ]
  },
  {
   "cell_type": "code",
   "execution_count": null,
   "metadata": {},
   "outputs": [],
   "source": []
  },
  {
   "cell_type": "code",
   "execution_count": 35,
   "metadata": {},
   "outputs": [
    {
     "name": "stdout",
     "output_type": "stream",
     "text": [
      "<class 'pandas.core.frame.DataFrame'>\n",
      "Index: 61809 entries, Tr-1 to Te-18543\n",
      "Data columns (total 2 columns):\n",
      "ComplaintStatusId    61809 non-null int64\n",
      "ComplaintReasonId    61809 non-null int64\n",
      "dtypes: int64(2)\n",
      "memory usage: 1.4+ MB\n"
     ]
    }
   ],
   "source": [
    "train_df.info()\n",
    "X = train_df[['ComplaintReasonId','ComplaintStatusId']]\n",
    "y = train_df['ComplaintStatusId']"
   ]
  },
  {
   "cell_type": "code",
   "execution_count": 36,
   "metadata": {},
   "outputs": [
    {
     "name": "stdout",
     "output_type": "stream",
     "text": [
      "(61809, 2) (61809,)\n"
     ]
    }
   ],
   "source": [
    "print (X.shape,y.shape)"
   ]
  },
  {
   "cell_type": "code",
   "execution_count": 37,
   "metadata": {},
   "outputs": [
    {
     "name": "stdout",
     "output_type": "stream",
     "text": [
      "(49447, 2) (49447,)\n",
      "(12362, 2) (12362,)\n"
     ]
    }
   ],
   "source": [
    "from sklearn.model_selection import train_test_split\n",
    "X_train, X_test, y_train, y_test = train_test_split(X,y,test_size=0.2,random_state = 0)\n",
    "print(X_train.shape, y_train.shape)\n",
    "print(X_test.shape, y_test.shape)\n"
   ]
  },
  {
   "cell_type": "code",
   "execution_count": null,
   "metadata": {},
   "outputs": [],
   "source": [
    "print('mean survival in train {0:.3f}'.format(np.mean(y_train)))\n",
    "print('mean survival in test {0:.3f}'.format(np.mean(y_test)))"
   ]
  },
  {
   "cell_type": "code",
   "execution_count": 38,
   "metadata": {},
   "outputs": [],
   "source": [
    "from sklearn.preprocessing import MinMaxScaler\n",
    "scaler = MinMaxScaler()\n",
    "X_train = scaler.fit_transform(X_train)\n",
    "X_test = scaler.transform(X_test)"
   ]
  },
  {
   "cell_type": "code",
   "execution_count": 40,
   "metadata": {},
   "outputs": [
    {
     "name": "stdout",
     "output_type": "stream",
     "text": [
      "Accuracy of Logistic regression classifier on training set: 0.95\n",
      "Accuracy of Logistic regression classifier on test set: 0.95\n"
     ]
    }
   ],
   "source": [
    "from sklearn.linear_model import LogisticRegression\n",
    "logreg = LogisticRegression()\n",
    "logreg.fit(X_train, y_train)\n",
    "print('Accuracy of Logistic regression classifier on training set: {:.2f}'\n",
    "     .format(logreg.score(X_train, y_train)))\n",
    "print('Accuracy of Logistic regression classifier on test set: {:.2f}'\n",
    "     .format(logreg.score(X_test, y_test)))"
   ]
  },
  {
   "cell_type": "code",
   "execution_count": 41,
   "metadata": {},
   "outputs": [
    {
     "name": "stdout",
     "output_type": "stream",
     "text": [
      "Accuracy of Decision Tree classifier on training set: 1.00\n",
      "Accuracy of Decision Tree classifier on test set: 1.00\n"
     ]
    }
   ],
   "source": [
    "from sklearn.tree import DecisionTreeClassifier\n",
    "clf = DecisionTreeClassifier().fit(X_train, y_train)\n",
    "print('Accuracy of Decision Tree classifier on training set: {:.2f}'\n",
    "     .format(clf.score(X_train, y_train)))\n",
    "print('Accuracy of Decision Tree classifier on test set: {:.2f}'\n",
    "     .format(clf.score(X_test, y_test)))"
   ]
  },
  {
   "cell_type": "code",
   "execution_count": 42,
   "metadata": {},
   "outputs": [
    {
     "name": "stdout",
     "output_type": "stream",
     "text": [
      "Accuracy of K-NN classifier on training set: 1.00\n",
      "Accuracy of K-NN classifier on test set: 1.00\n"
     ]
    }
   ],
   "source": [
    "from sklearn.neighbors import KNeighborsClassifier\n",
    "knn = KNeighborsClassifier()\n",
    "knn.fit(X_train, y_train)\n",
    "print('Accuracy of K-NN classifier on training set: {:.2f}'\n",
    "     .format(knn.score(X_train, y_train)))\n",
    "print('Accuracy of K-NN classifier on test set: {:.2f}'\n",
    "     .format(knn.score(X_test, y_test)))"
   ]
  },
  {
   "cell_type": "code",
   "execution_count": 43,
   "metadata": {},
   "outputs": [
    {
     "name": "stdout",
     "output_type": "stream",
     "text": [
      "Accuracy of LDA classifier on training set: 1.00\n",
      "Accuracy of LDA classifier on test set: 1.00\n"
     ]
    }
   ],
   "source": [
    "from sklearn.discriminant_analysis import LinearDiscriminantAnalysis\n",
    "lda = LinearDiscriminantAnalysis()\n",
    "lda.fit(X_train, y_train)\n",
    "print('Accuracy of LDA classifier on training set: {:.2f}'\n",
    "     .format(lda.score(X_train, y_train)))\n",
    "print('Accuracy of LDA classifier on test set: {:.2f}'\n",
    "     .format(lda.score(X_test, y_test)))"
   ]
  },
  {
   "cell_type": "code",
   "execution_count": 44,
   "metadata": {},
   "outputs": [
    {
     "name": "stdout",
     "output_type": "stream",
     "text": [
      "Accuracy of GNB classifier on training set: 1.00\n",
      "Accuracy of GNB classifier on test set: 1.00\n"
     ]
    }
   ],
   "source": [
    "from sklearn.naive_bayes import GaussianNB\n",
    "gnb = GaussianNB()\n",
    "gnb.fit(X_train, y_train)\n",
    "print('Accuracy of GNB classifier on training set: {:.2f}'\n",
    "     .format(gnb.score(X_train, y_train)))\n",
    "print('Accuracy of GNB classifier on test set: {:.2f}'\n",
    "     .format(gnb.score(X_test, y_test)))"
   ]
  },
  {
   "cell_type": "code",
   "execution_count": 45,
   "metadata": {},
   "outputs": [
    {
     "name": "stdout",
     "output_type": "stream",
     "text": [
      "Accuracy of SVM classifier on training set: 1.00\n",
      "Accuracy of SVM classifier on test set: 1.00\n"
     ]
    }
   ],
   "source": [
    "from sklearn.svm import SVC\n",
    "svm = SVC()\n",
    "svm.fit(X_train, y_train)\n",
    "print('Accuracy of SVM classifier on training set: {:.2f}'\n",
    "     .format(svm.score(X_train, y_train)))\n",
    "print('Accuracy of SVM classifier on test set: {:.2f}'\n",
    "     .format(svm.score(X_test, y_test)))"
   ]
  },
  {
   "cell_type": "code",
   "execution_count": 46,
   "metadata": {},
   "outputs": [
    {
     "name": "stdout",
     "output_type": "stream",
     "text": [
      "[[6931    0    0    0    0    0]\n",
      " [   0  922    0    0    0    0]\n",
      " [   0    0  161    0    0    0]\n",
      " [   0    0    0  550    0    0]\n",
      " [   0    0    0    0   71    0]\n",
      " [   0    0    0    0    0 3727]]\n",
      "             precision    recall  f1-score   support\n",
      "\n",
      "          0       1.00      1.00      1.00      6931\n",
      "          1       1.00      1.00      1.00       922\n",
      "          2       1.00      1.00      1.00       161\n",
      "          3       1.00      1.00      1.00       550\n",
      "          4       1.00      1.00      1.00        71\n",
      "          5       1.00      1.00      1.00      3727\n",
      "\n",
      "avg / total       1.00      1.00      1.00     12362\n",
      "\n"
     ]
    }
   ],
   "source": [
    "from sklearn.metrics import classification_report\n",
    "from sklearn.metrics import confusion_matrix\n",
    "pred = knn.predict(X_test)\n",
    "print(confusion_matrix(y_test, pred))\n",
    "print(classification_report(y_test, pred))"
   ]
  },
  {
   "cell_type": "code",
   "execution_count": null,
   "metadata": {},
   "outputs": [],
   "source": []
  }
 ],
 "metadata": {
  "kernelspec": {
   "display_name": "Python 3",
   "language": "python",
   "name": "python3"
  },
  "language_info": {
   "codemirror_mode": {
    "name": "ipython",
    "version": 3
   },
   "file_extension": ".py",
   "mimetype": "text/x-python",
   "name": "python",
   "nbconvert_exporter": "python",
   "pygments_lexer": "ipython3",
   "version": "3.6.5"
  }
 },
 "nbformat": 4,
 "nbformat_minor": 2
}
